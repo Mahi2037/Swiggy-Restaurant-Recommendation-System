{
 "cells": [
  {
   "cell_type": "code",
   "execution_count": 1,
   "id": "8a53755d",
   "metadata": {},
   "outputs": [],
   "source": [
    "import pandas as pd\n",
    "cleaned_data = pd.read_csv(r'L:\\Guvi\\Project 4\\cleaned_data.csv')\n",
    "encoded_data = pd.read_csv(r'L:\\Guvi\\Project 4\\encoded_data.csv')"
   ]
  },
  {
   "cell_type": "code",
   "execution_count": 4,
   "id": "884c048e",
   "metadata": {},
   "outputs": [],
   "source": [
    "encoded_data = encoded_data.select_dtypes(include=['number'])\n",
    "\n"
   ]
  },
  {
   "cell_type": "code",
   "execution_count": 5,
   "id": "80bc2041",
   "metadata": {},
   "outputs": [],
   "source": [
    "from sklearn.metrics.pairwise import cosine_similarity\n",
    "\n",
    "# Calculate cosine similarity\n",
    "similarity_matrix = cosine_similarity(encoded_data)\n",
    "\n",
    "# Recommendation function\n",
    "def recommend_restaurants_cosine(restaurant_id, top_n=5):\n",
    "    # Find the index of the restaurant\n",
    "    idx = cleaned_data[cleaned_data['id'] == restaurant_id].index[0]\n",
    "\n",
    "    # Get the similarity scores\n",
    "    sim_scores = list(enumerate(similarity_matrix[idx]))\n",
    "\n",
    "    # Sort the restaurants by similarity score\n",
    "    sim_scores = sorted(sim_scores, key=lambda x: x[1], reverse=True)\n",
    "\n",
    "    # Get the indices of top_n similar restaurants (skip the first one because it's the restaurant itself)\n",
    "    sim_indices = [i[0] for i in sim_scores[1:top_n+1]]\n",
    "\n",
    "    # Return the recommended restaurants\n",
    "    return cleaned_data.iloc[sim_indices][['id', 'name', 'city', 'rating', 'cost', 'cuisine']]\n"
   ]
  },
  {
   "cell_type": "code",
   "execution_count": 6,
   "id": "4db1420d",
   "metadata": {},
   "outputs": [],
   "source": [
    "from sklearn.cluster import KMeans\n",
    "\n",
    "# Build KMeans model\n",
    "kmeans = KMeans(n_clusters=10, random_state=42)\n",
    "kmeans.fit(encoded_data)\n",
    "\n",
    "# Assign cluster labels\n",
    "cleaned_data['cluster'] = kmeans.labels_\n",
    "\n",
    "# Recommendation function\n",
    "def recommend_restaurants_kmeans(restaurant_id, top_n=5):\n",
    "    # Find the cluster of the selected restaurant\n",
    "    idx = cleaned_data[cleaned_data['id'] == restaurant_id].index[0]\n",
    "    cluster_label = cleaned_data.iloc[idx]['cluster']\n",
    "\n",
    "    # Find all restaurants in the same cluster\n",
    "    cluster_restaurants = cleaned_data[cleaned_data['cluster'] == cluster_label]\n",
    "\n",
    "    # Exclude the input restaurant\n",
    "    cluster_restaurants = cluster_restaurants[cluster_restaurants['id'] != restaurant_id]\n",
    "\n",
    "    # Return top_n restaurants\n",
    "    return cluster_restaurants[['id', 'name', 'city', 'rating', 'cost', 'cuisine']].head(top_n)\n"
   ]
  }
 ],
 "metadata": {
  "kernelspec": {
   "display_name": "Python 3",
   "language": "python",
   "name": "python3"
  },
  "language_info": {
   "codemirror_mode": {
    "name": "ipython",
    "version": 3
   },
   "file_extension": ".py",
   "mimetype": "text/x-python",
   "name": "python",
   "nbconvert_exporter": "python",
   "pygments_lexer": "ipython3",
   "version": "3.12.8"
  }
 },
 "nbformat": 4,
 "nbformat_minor": 5
}
