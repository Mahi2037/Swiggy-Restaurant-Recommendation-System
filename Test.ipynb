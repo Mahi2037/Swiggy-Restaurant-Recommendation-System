{
 "cells": [
  {
   "cell_type": "code",
   "execution_count": 5,
   "id": "6517ad86",
   "metadata": {},
   "outputs": [
    {
     "data": {
      "text/html": [
       "<div>\n",
       "<style scoped>\n",
       "    .dataframe tbody tr th:only-of-type {\n",
       "        vertical-align: middle;\n",
       "    }\n",
       "\n",
       "    .dataframe tbody tr th {\n",
       "        vertical-align: top;\n",
       "    }\n",
       "\n",
       "    .dataframe thead th {\n",
       "        text-align: right;\n",
       "    }\n",
       "</style>\n",
       "<table border=\"1\" class=\"dataframe\">\n",
       "  <thead>\n",
       "    <tr style=\"text-align: right;\">\n",
       "      <th></th>\n",
       "      <th>id</th>\n",
       "      <th>name</th>\n",
       "      <th>city</th>\n",
       "      <th>rating</th>\n",
       "      <th>rating_count</th>\n",
       "      <th>cost</th>\n",
       "      <th>cuisine</th>\n",
       "      <th>lic_no</th>\n",
       "      <th>link</th>\n",
       "      <th>address</th>\n",
       "      <th>menu</th>\n",
       "    </tr>\n",
       "  </thead>\n",
       "  <tbody>\n",
       "    <tr>\n",
       "      <th>0</th>\n",
       "      <td>567335</td>\n",
       "      <td>AB FOODS POINT</td>\n",
       "      <td>Abohar</td>\n",
       "      <td>--</td>\n",
       "      <td>Too Few Ratings</td>\n",
       "      <td>₹ 200</td>\n",
       "      <td>Beverages,Pizzas</td>\n",
       "      <td>22122652000138</td>\n",
       "      <td>https://www.swiggy.com/restaurants/ab-foods-po...</td>\n",
       "      <td>AB FOODS POINT, NEAR RISHI NARANG DENTAL CLINI...</td>\n",
       "      <td>Menu/567335.json</td>\n",
       "    </tr>\n",
       "    <tr>\n",
       "      <th>1</th>\n",
       "      <td>531342</td>\n",
       "      <td>Janta Sweet House</td>\n",
       "      <td>Abohar</td>\n",
       "      <td>4.4</td>\n",
       "      <td>50+ ratings</td>\n",
       "      <td>₹ 200</td>\n",
       "      <td>Sweets,Bakery</td>\n",
       "      <td>12117201000112</td>\n",
       "      <td>https://www.swiggy.com/restaurants/janta-sweet...</td>\n",
       "      <td>Janta Sweet House, Bazar No.9, Circullar Road,...</td>\n",
       "      <td>Menu/531342.json</td>\n",
       "    </tr>\n",
       "    <tr>\n",
       "      <th>2</th>\n",
       "      <td>158203</td>\n",
       "      <td>theka coffee desi</td>\n",
       "      <td>Abohar</td>\n",
       "      <td>3.8</td>\n",
       "      <td>100+ ratings</td>\n",
       "      <td>₹ 100</td>\n",
       "      <td>Beverages</td>\n",
       "      <td>22121652000190</td>\n",
       "      <td>https://www.swiggy.com/restaurants/theka-coffe...</td>\n",
       "      <td>theka coffee desi, sahtiya sadan road city</td>\n",
       "      <td>Menu/158203.json</td>\n",
       "    </tr>\n",
       "    <tr>\n",
       "      <th>3</th>\n",
       "      <td>187912</td>\n",
       "      <td>Singh Hut</td>\n",
       "      <td>Abohar</td>\n",
       "      <td>3.7</td>\n",
       "      <td>20+ ratings</td>\n",
       "      <td>₹ 250</td>\n",
       "      <td>Fast Food,Indian</td>\n",
       "      <td>22119652000167</td>\n",
       "      <td>https://www.swiggy.com/restaurants/singh-hut-n...</td>\n",
       "      <td>Singh Hut, CIRCULAR ROAD NEAR NEHRU PARK ABOHAR</td>\n",
       "      <td>Menu/187912.json</td>\n",
       "    </tr>\n",
       "    <tr>\n",
       "      <th>4</th>\n",
       "      <td>543530</td>\n",
       "      <td>GRILL MASTERS</td>\n",
       "      <td>Abohar</td>\n",
       "      <td>--</td>\n",
       "      <td>Too Few Ratings</td>\n",
       "      <td>₹ 250</td>\n",
       "      <td>Italian-American,Fast Food</td>\n",
       "      <td>12122201000053</td>\n",
       "      <td>https://www.swiggy.com/restaurants/grill-maste...</td>\n",
       "      <td>GRILL MASTERS, ADA Heights, Abohar - Hanumanga...</td>\n",
       "      <td>Menu/543530.json</td>\n",
       "    </tr>\n",
       "  </tbody>\n",
       "</table>\n",
       "</div>"
      ],
      "text/plain": [
       "       id               name    city rating     rating_count   cost  \\\n",
       "0  567335     AB FOODS POINT  Abohar     --  Too Few Ratings  ₹ 200   \n",
       "1  531342  Janta Sweet House  Abohar    4.4      50+ ratings  ₹ 200   \n",
       "2  158203  theka coffee desi  Abohar    3.8     100+ ratings  ₹ 100   \n",
       "3  187912          Singh Hut  Abohar    3.7      20+ ratings  ₹ 250   \n",
       "4  543530      GRILL MASTERS  Abohar     --  Too Few Ratings  ₹ 250   \n",
       "\n",
       "                      cuisine          lic_no  \\\n",
       "0            Beverages,Pizzas  22122652000138   \n",
       "1               Sweets,Bakery  12117201000112   \n",
       "2                   Beverages  22121652000190   \n",
       "3            Fast Food,Indian  22119652000167   \n",
       "4  Italian-American,Fast Food  12122201000053   \n",
       "\n",
       "                                                link  \\\n",
       "0  https://www.swiggy.com/restaurants/ab-foods-po...   \n",
       "1  https://www.swiggy.com/restaurants/janta-sweet...   \n",
       "2  https://www.swiggy.com/restaurants/theka-coffe...   \n",
       "3  https://www.swiggy.com/restaurants/singh-hut-n...   \n",
       "4  https://www.swiggy.com/restaurants/grill-maste...   \n",
       "\n",
       "                                             address              menu  \n",
       "0  AB FOODS POINT, NEAR RISHI NARANG DENTAL CLINI...  Menu/567335.json  \n",
       "1  Janta Sweet House, Bazar No.9, Circullar Road,...  Menu/531342.json  \n",
       "2         theka coffee desi, sahtiya sadan road city  Menu/158203.json  \n",
       "3    Singh Hut, CIRCULAR ROAD NEAR NEHRU PARK ABOHAR  Menu/187912.json  \n",
       "4  GRILL MASTERS, ADA Heights, Abohar - Hanumanga...  Menu/543530.json  "
      ]
     },
     "execution_count": 5,
     "metadata": {},
     "output_type": "execute_result"
    }
   ],
   "source": [
    "import pandas as pd\n",
    "import numpy as np\n",
    "df = pd.read_csv(r'L:\\Guvi\\Project 4\\swiggy.csv')\n",
    "df.head()"
   ]
  },
  {
   "cell_type": "code",
   "execution_count": 6,
   "id": "4a813810",
   "metadata": {},
   "outputs": [
    {
     "name": "stdout",
     "output_type": "stream",
     "text": [
      "(148541, 11)\n",
      "Index(['id', 'name', 'city', 'rating', 'rating_count', 'cost', 'cuisine',\n",
      "       'lic_no', 'link', 'address', 'menu'],\n",
      "      dtype='object')\n",
      "id               int64\n",
      "name            object\n",
      "city            object\n",
      "rating          object\n",
      "rating_count    object\n",
      "cost            object\n",
      "cuisine         object\n",
      "lic_no          object\n",
      "link            object\n",
      "address         object\n",
      "menu            object\n",
      "dtype: object\n",
      "       id               name    city rating     rating_count   cost  \\\n",
      "0  567335     AB FOODS POINT  Abohar     --  Too Few Ratings  ₹ 200   \n",
      "1  531342  Janta Sweet House  Abohar    4.4      50+ ratings  ₹ 200   \n",
      "2  158203  theka coffee desi  Abohar    3.8     100+ ratings  ₹ 100   \n",
      "3  187912          Singh Hut  Abohar    3.7      20+ ratings  ₹ 250   \n",
      "4  543530      GRILL MASTERS  Abohar     --  Too Few Ratings  ₹ 250   \n",
      "\n",
      "                      cuisine          lic_no  \\\n",
      "0            Beverages,Pizzas  22122652000138   \n",
      "1               Sweets,Bakery  12117201000112   \n",
      "2                   Beverages  22121652000190   \n",
      "3            Fast Food,Indian  22119652000167   \n",
      "4  Italian-American,Fast Food  12122201000053   \n",
      "\n",
      "                                                link  \\\n",
      "0  https://www.swiggy.com/restaurants/ab-foods-po...   \n",
      "1  https://www.swiggy.com/restaurants/janta-sweet...   \n",
      "2  https://www.swiggy.com/restaurants/theka-coffe...   \n",
      "3  https://www.swiggy.com/restaurants/singh-hut-n...   \n",
      "4  https://www.swiggy.com/restaurants/grill-maste...   \n",
      "\n",
      "                                             address              menu  \n",
      "0  AB FOODS POINT, NEAR RISHI NARANG DENTAL CLINI...  Menu/567335.json  \n",
      "1  Janta Sweet House, Bazar No.9, Circullar Road,...  Menu/531342.json  \n",
      "2         theka coffee desi, sahtiya sadan road city  Menu/158203.json  \n",
      "3    Singh Hut, CIRCULAR ROAD NEAR NEHRU PARK ABOHAR  Menu/187912.json  \n",
      "4  GRILL MASTERS, ADA Heights, Abohar - Hanumanga...  Menu/543530.json  \n"
     ]
    }
   ],
   "source": [
    "print(df.shape)         # Rows and columns\n",
    "print(df.columns)       # Column names\n",
    "print(df.dtypes)        # Data types\n",
    "print(df.head())        # First few rows"
   ]
  },
  {
   "cell_type": "code",
   "execution_count": 7,
   "id": "70bef169",
   "metadata": {},
   "outputs": [
    {
     "name": "stdout",
     "output_type": "stream",
     "text": [
      "id                0\n",
      "name             86\n",
      "city              0\n",
      "rating           86\n",
      "rating_count     86\n",
      "cost            131\n",
      "cuisine          99\n",
      "lic_no          229\n",
      "link              0\n",
      "address          86\n",
      "menu              0\n",
      "dtype: int64\n"
     ]
    }
   ],
   "source": [
    "print(df.isnull().sum())    # Missing values per column\n"
   ]
  },
  {
   "cell_type": "code",
   "execution_count": 8,
   "id": "5b81caea",
   "metadata": {},
   "outputs": [],
   "source": [
    "df['cost'] = df['cost'].str.replace('₹', '').str.strip()\n",
    "df['cost'] = pd.to_numeric(df['cost'], errors='coerce')\n"
   ]
  },
  {
   "cell_type": "code",
   "execution_count": 9,
   "id": "d78c2f16",
   "metadata": {},
   "outputs": [],
   "source": [
    "df['rating'] = df['rating'].replace('--', np.nan)\n",
    "df['rating'] = pd.to_numeric(df['rating'], errors='coerce')\n"
   ]
  },
  {
   "cell_type": "code",
   "execution_count": 14,
   "id": "292d8321",
   "metadata": {},
   "outputs": [
    {
     "ename": "AttributeError",
     "evalue": "Can only use .str accessor with string values!",
     "output_type": "error",
     "traceback": [
      "\u001b[1;31m---------------------------------------------------------------------------\u001b[0m",
      "\u001b[1;31mAttributeError\u001b[0m                            Traceback (most recent call last)",
      "Cell \u001b[1;32mIn[14], line 2\u001b[0m\n\u001b[0;32m      1\u001b[0m df[\u001b[38;5;124m'\u001b[39m\u001b[38;5;124mrating_count\u001b[39m\u001b[38;5;124m'\u001b[39m] \u001b[38;5;241m=\u001b[39m df[\u001b[38;5;124m'\u001b[39m\u001b[38;5;124mrating_count\u001b[39m\u001b[38;5;124m'\u001b[39m]\u001b[38;5;241m.\u001b[39mreplace(\u001b[38;5;124m'\u001b[39m\u001b[38;5;124mToo Few Ratings\u001b[39m\u001b[38;5;124m'\u001b[39m, \u001b[38;5;124m'\u001b[39m\u001b[38;5;124m0\u001b[39m\u001b[38;5;124m'\u001b[39m)\n\u001b[1;32m----> 2\u001b[0m df[\u001b[38;5;124m'\u001b[39m\u001b[38;5;124mrating_count\u001b[39m\u001b[38;5;124m'\u001b[39m] \u001b[38;5;241m=\u001b[39m \u001b[43mdf\u001b[49m\u001b[43m[\u001b[49m\u001b[38;5;124;43m'\u001b[39;49m\u001b[38;5;124;43mrating_count\u001b[39;49m\u001b[38;5;124;43m'\u001b[39;49m\u001b[43m]\u001b[49m\u001b[38;5;241;43m.\u001b[39;49m\u001b[43mstr\u001b[49m\u001b[38;5;241m.\u001b[39mreplace(\u001b[38;5;124m'\u001b[39m\u001b[38;5;124m+\u001b[39m\u001b[38;5;124m'\u001b[39m, \u001b[38;5;124m'\u001b[39m\u001b[38;5;124m'\u001b[39m)\u001b[38;5;241m.\u001b[39mstr\u001b[38;5;241m.\u001b[39mreplace(\u001b[38;5;124m'\u001b[39m\u001b[38;5;124m ratings\u001b[39m\u001b[38;5;124m'\u001b[39m, \u001b[38;5;124m'\u001b[39m\u001b[38;5;124m'\u001b[39m)\u001b[38;5;241m.\u001b[39mstr\u001b[38;5;241m.\u001b[39mstrip()\n\u001b[0;32m      3\u001b[0m df[\u001b[38;5;124m'\u001b[39m\u001b[38;5;124mrating_count\u001b[39m\u001b[38;5;124m'\u001b[39m] \u001b[38;5;241m=\u001b[39m pd\u001b[38;5;241m.\u001b[39mto_numeric(df[\u001b[38;5;124m'\u001b[39m\u001b[38;5;124mrating_count\u001b[39m\u001b[38;5;124m'\u001b[39m], errors\u001b[38;5;241m=\u001b[39m\u001b[38;5;124m'\u001b[39m\u001b[38;5;124mcoerce\u001b[39m\u001b[38;5;124m'\u001b[39m)\n",
      "File \u001b[1;32mc:\\Users\\CARE\\AppData\\Local\\Programs\\Python\\Python312\\Lib\\site-packages\\pandas\\core\\generic.py:6299\u001b[0m, in \u001b[0;36mNDFrame.__getattr__\u001b[1;34m(self, name)\u001b[0m\n\u001b[0;32m   6292\u001b[0m \u001b[38;5;28;01mif\u001b[39;00m (\n\u001b[0;32m   6293\u001b[0m     name \u001b[38;5;129;01mnot\u001b[39;00m \u001b[38;5;129;01min\u001b[39;00m \u001b[38;5;28mself\u001b[39m\u001b[38;5;241m.\u001b[39m_internal_names_set\n\u001b[0;32m   6294\u001b[0m     \u001b[38;5;129;01mand\u001b[39;00m name \u001b[38;5;129;01mnot\u001b[39;00m \u001b[38;5;129;01min\u001b[39;00m \u001b[38;5;28mself\u001b[39m\u001b[38;5;241m.\u001b[39m_metadata\n\u001b[0;32m   6295\u001b[0m     \u001b[38;5;129;01mand\u001b[39;00m name \u001b[38;5;129;01mnot\u001b[39;00m \u001b[38;5;129;01min\u001b[39;00m \u001b[38;5;28mself\u001b[39m\u001b[38;5;241m.\u001b[39m_accessors\n\u001b[0;32m   6296\u001b[0m     \u001b[38;5;129;01mand\u001b[39;00m \u001b[38;5;28mself\u001b[39m\u001b[38;5;241m.\u001b[39m_info_axis\u001b[38;5;241m.\u001b[39m_can_hold_identifiers_and_holds_name(name)\n\u001b[0;32m   6297\u001b[0m ):\n\u001b[0;32m   6298\u001b[0m     \u001b[38;5;28;01mreturn\u001b[39;00m \u001b[38;5;28mself\u001b[39m[name]\n\u001b[1;32m-> 6299\u001b[0m \u001b[38;5;28;01mreturn\u001b[39;00m \u001b[38;5;28;43mobject\u001b[39;49m\u001b[38;5;241;43m.\u001b[39;49m\u001b[38;5;21;43m__getattribute__\u001b[39;49m\u001b[43m(\u001b[49m\u001b[38;5;28;43mself\u001b[39;49m\u001b[43m,\u001b[49m\u001b[43m \u001b[49m\u001b[43mname\u001b[49m\u001b[43m)\u001b[49m\n",
      "File \u001b[1;32mc:\\Users\\CARE\\AppData\\Local\\Programs\\Python\\Python312\\Lib\\site-packages\\pandas\\core\\accessor.py:224\u001b[0m, in \u001b[0;36mCachedAccessor.__get__\u001b[1;34m(self, obj, cls)\u001b[0m\n\u001b[0;32m    221\u001b[0m \u001b[38;5;28;01mif\u001b[39;00m obj \u001b[38;5;129;01mis\u001b[39;00m \u001b[38;5;28;01mNone\u001b[39;00m:\n\u001b[0;32m    222\u001b[0m     \u001b[38;5;66;03m# we're accessing the attribute of the class, i.e., Dataset.geo\u001b[39;00m\n\u001b[0;32m    223\u001b[0m     \u001b[38;5;28;01mreturn\u001b[39;00m \u001b[38;5;28mself\u001b[39m\u001b[38;5;241m.\u001b[39m_accessor\n\u001b[1;32m--> 224\u001b[0m accessor_obj \u001b[38;5;241m=\u001b[39m \u001b[38;5;28;43mself\u001b[39;49m\u001b[38;5;241;43m.\u001b[39;49m\u001b[43m_accessor\u001b[49m\u001b[43m(\u001b[49m\u001b[43mobj\u001b[49m\u001b[43m)\u001b[49m\n\u001b[0;32m    225\u001b[0m \u001b[38;5;66;03m# Replace the property with the accessor object. Inspired by:\u001b[39;00m\n\u001b[0;32m    226\u001b[0m \u001b[38;5;66;03m# https://www.pydanny.com/cached-property.html\u001b[39;00m\n\u001b[0;32m    227\u001b[0m \u001b[38;5;66;03m# We need to use object.__setattr__ because we overwrite __setattr__ on\u001b[39;00m\n\u001b[0;32m    228\u001b[0m \u001b[38;5;66;03m# NDFrame\u001b[39;00m\n\u001b[0;32m    229\u001b[0m \u001b[38;5;28mobject\u001b[39m\u001b[38;5;241m.\u001b[39m\u001b[38;5;21m__setattr__\u001b[39m(obj, \u001b[38;5;28mself\u001b[39m\u001b[38;5;241m.\u001b[39m_name, accessor_obj)\n",
      "File \u001b[1;32mc:\\Users\\CARE\\AppData\\Local\\Programs\\Python\\Python312\\Lib\\site-packages\\pandas\\core\\strings\\accessor.py:191\u001b[0m, in \u001b[0;36mStringMethods.__init__\u001b[1;34m(self, data)\u001b[0m\n\u001b[0;32m    188\u001b[0m \u001b[38;5;28;01mdef\u001b[39;00m\u001b[38;5;250m \u001b[39m\u001b[38;5;21m__init__\u001b[39m(\u001b[38;5;28mself\u001b[39m, data) \u001b[38;5;241m-\u001b[39m\u001b[38;5;241m>\u001b[39m \u001b[38;5;28;01mNone\u001b[39;00m:\n\u001b[0;32m    189\u001b[0m     \u001b[38;5;28;01mfrom\u001b[39;00m\u001b[38;5;250m \u001b[39m\u001b[38;5;21;01mpandas\u001b[39;00m\u001b[38;5;21;01m.\u001b[39;00m\u001b[38;5;21;01mcore\u001b[39;00m\u001b[38;5;21;01m.\u001b[39;00m\u001b[38;5;21;01marrays\u001b[39;00m\u001b[38;5;21;01m.\u001b[39;00m\u001b[38;5;21;01mstring_\u001b[39;00m\u001b[38;5;250m \u001b[39m\u001b[38;5;28;01mimport\u001b[39;00m StringDtype\n\u001b[1;32m--> 191\u001b[0m     \u001b[38;5;28mself\u001b[39m\u001b[38;5;241m.\u001b[39m_inferred_dtype \u001b[38;5;241m=\u001b[39m \u001b[38;5;28;43mself\u001b[39;49m\u001b[38;5;241;43m.\u001b[39;49m\u001b[43m_validate\u001b[49m\u001b[43m(\u001b[49m\u001b[43mdata\u001b[49m\u001b[43m)\u001b[49m\n\u001b[0;32m    192\u001b[0m     \u001b[38;5;28mself\u001b[39m\u001b[38;5;241m.\u001b[39m_is_categorical \u001b[38;5;241m=\u001b[39m \u001b[38;5;28misinstance\u001b[39m(data\u001b[38;5;241m.\u001b[39mdtype, CategoricalDtype)\n\u001b[0;32m    193\u001b[0m     \u001b[38;5;28mself\u001b[39m\u001b[38;5;241m.\u001b[39m_is_string \u001b[38;5;241m=\u001b[39m \u001b[38;5;28misinstance\u001b[39m(data\u001b[38;5;241m.\u001b[39mdtype, StringDtype)\n",
      "File \u001b[1;32mc:\\Users\\CARE\\AppData\\Local\\Programs\\Python\\Python312\\Lib\\site-packages\\pandas\\core\\strings\\accessor.py:245\u001b[0m, in \u001b[0;36mStringMethods._validate\u001b[1;34m(data)\u001b[0m\n\u001b[0;32m    242\u001b[0m inferred_dtype \u001b[38;5;241m=\u001b[39m lib\u001b[38;5;241m.\u001b[39minfer_dtype(values, skipna\u001b[38;5;241m=\u001b[39m\u001b[38;5;28;01mTrue\u001b[39;00m)\n\u001b[0;32m    244\u001b[0m \u001b[38;5;28;01mif\u001b[39;00m inferred_dtype \u001b[38;5;129;01mnot\u001b[39;00m \u001b[38;5;129;01min\u001b[39;00m allowed_types:\n\u001b[1;32m--> 245\u001b[0m     \u001b[38;5;28;01mraise\u001b[39;00m \u001b[38;5;167;01mAttributeError\u001b[39;00m(\u001b[38;5;124m\"\u001b[39m\u001b[38;5;124mCan only use .str accessor with string values!\u001b[39m\u001b[38;5;124m\"\u001b[39m)\n\u001b[0;32m    246\u001b[0m \u001b[38;5;28;01mreturn\u001b[39;00m inferred_dtype\n",
      "\u001b[1;31mAttributeError\u001b[0m: Can only use .str accessor with string values!"
     ]
    }
   ],
   "source": [
    "df['rating_count'] = df['rating_count'].replace('Too Few Ratings', '0')\n",
    "df['rating_count'] = df['rating_count'].str.replace('+', '').str.replace(' ratings', '').str.strip()\n",
    "df['rating_count'] = pd.to_numeric(df['rating_count'], errors='coerce')\n"
   ]
  },
  {
   "cell_type": "code",
   "execution_count": 15,
   "id": "027842e5",
   "metadata": {},
   "outputs": [],
   "source": [
    "df = df.dropna(subset=['name', 'cost', 'address'])\n"
   ]
  },
  {
   "cell_type": "code",
   "execution_count": 16,
   "id": "0bb46545",
   "metadata": {},
   "outputs": [],
   "source": [
    "# Fill missing 'cuisine' and 'lic_no' with 'Unknown'\n",
    "df['cuisine'] = df['cuisine'].fillna('Unknown')\n",
    "df['lic_no'] = df['lic_no'].fillna('Unknown')\n"
   ]
  },
  {
   "cell_type": "code",
   "execution_count": 17,
   "id": "9ddc6983",
   "metadata": {},
   "outputs": [],
   "source": [
    "# Fill missing 'rating' with the mean rating\n",
    "df['rating'] = df['rating'].fillna(df['rating'].mean())\n"
   ]
  },
  {
   "cell_type": "code",
   "execution_count": 18,
   "id": "a549084f",
   "metadata": {},
   "outputs": [],
   "source": [
    "#  Remove duplicate entries\n",
    "df = df.drop_duplicates()"
   ]
  },
  {
   "cell_type": "code",
   "execution_count": 20,
   "id": "47010af1",
   "metadata": {},
   "outputs": [
    {
     "data": {
      "text/plain": [
       "array(['Abohar', 'Adilabad', 'Adityapur', 'Adoni', 'Agartala', 'Agra',\n",
       "       'Vastrapur,Ahmedabad', 'GOTA,Ahmedabad',\n",
       "       'Paldi & Ambawadi,Ahmedabad', 'Ghatlodia,Ahmedabad',\n",
       "       'Bopal,Ahmedabad', 'Gandhinagar,Ahmedabad', 'LalDarwaja,Ahmedabad',\n",
       "       'Naranpura,Ahmedabad', 'Navrangpura,Ahmedabad',\n",
       "       'Science City,Ahmedabad', 'Maninagar,Ahmedabad',\n",
       "       'Chandkheda,Ahmedabad', 'Ahmednagar', 'Aizawl', 'Ajmer', 'Akola',\n",
       "       'Alappuzha', 'Aligarh', 'Alipurduar', 'Allahabad', 'Alwar',\n",
       "       'Ambala', 'Ambikapur', 'Ambur', 'Amravati', 'Amreli', 'Amritsar',\n",
       "       'Anand', 'Anantapur', 'Ankleshwar', 'Arakkonam', 'Arambagh',\n",
       "       'Arrah', 'Aruppukottai', 'Asansol', 'Aurangabad',\n",
       "       'Aurangabad_bihar', 'Azamgarh', 'Baddi', 'Bagalkot', 'Bagdogra',\n",
       "       'Bahadurgarh', 'Bahraich', 'Balaghat', 'Balangir', 'Balasore',\n",
       "       'Ballari', 'Balrampur', 'Balurghat', 'Banda',\n",
       "       'Yeshwanthpur,Bangalore', 'Geddalahalli,Bangalore',\n",
       "       'Koramangala,Bangalore', 'JP Nagar,Bangalore',\n",
       "       'Mahadevpura,Bangalore', 'HSR,Bangalore', 'Arekere,Bangalore',\n",
       "       'Indiranagar,Bangalore', 'Banashankari,Bangalore',\n",
       "       'Whitefield,Bangalore', 'Nagavara & Hennur,Bangalore',\n",
       "       'Kammanahalli/Kalyan Nagar,Bangalore',\n",
       "       'Kumaraswamy Layout & Uttarahalli,Bangalore', 'BTM,Bangalore',\n",
       "       'Battarahalli,Bangalore', 'Basaveshwaranagar,Bangalore',\n",
       "       'Frazer Town,Bangalore', 'Sanjay Nagar, New BEL Road,Bangalore',\n",
       "       'Yelahanka,Bangalore', 'Majestic,Bangalore',\n",
       "       'Kanakapura Road,Bangalore', 'R.T. Nagar,Bangalore',\n",
       "       'Kadugodi,Bangalore', 'Marathahalli,Bangalore',\n",
       "       'Rajarajeshwari Nagar,Bangalore', 'CV Raman Nagar,Bangalore',\n",
       "       'Electronic City,Bangalore', 'Rajajinagar,Bangalore',\n",
       "       'Kadubeesanahalli,Bangalore', 'Shantinagar,Bangalore',\n",
       "       'Jayanagar,Bangalore', 'Central Bangalore,Bangalore', 'Bantwal',\n",
       "       'Bapatlachirala', 'Baramati', 'Baran', 'Bardhaman', 'Bardoli',\n",
       "       'Bareilly', 'Barmer', 'Barnala', 'Barshi', 'Barwani', 'Basirhat',\n",
       "       'Basti', 'Batala', 'Bathinda', 'Beawar', 'Beed', 'Begusarai',\n",
       "       'Bela-pratapgarh', 'Belgaum', 'Berhampore', 'Berhampur', 'Bettiah',\n",
       "       'Betul', 'Bhadohi', 'Bhadrachalam', 'Bhagalpur', 'Bhandara',\n",
       "       'Bharabanki', 'Bharatpur', 'Bharuch', 'Bhatkal', 'Bhavnagar',\n",
       "       'Bhawanipatna', 'Bhilai', 'Bhilwara', 'Bhimavaram', 'Bhind',\n",
       "       'Bhiwadi', 'Bhiwani', 'Bhopal', 'Bhubaneswar', 'Bhuj', 'Bhusawal',\n",
       "       'Bidar', 'Biharsharif', 'Bijapur', 'Bijnor', 'Bikaner', 'Bilaspur',\n",
       "       'Bilimora', 'Bodhan-rural', 'Bodinayakanur', 'Boisar', 'Bokaro',\n",
       "       'Bolpur', 'Bongaigaon', 'Bongaon', 'Budaun', 'Budhwal',\n",
       "       'Bulandshahr', 'Buldana', 'Bundi', 'Burhanpur', 'Buxar',\n",
       "       'Central-goa', 'Chakdaha', 'Chalakkudy', 'Chalisgaon', 'Chandausi',\n",
       "       'Greater Mohali,Chandigarh', 'Zirakpur,Chandigarh',\n",
       "       'East Chd,Chandigarh', 'North Mohali,Chandigarh',\n",
       "       'South Mohali,Chandigarh', 'West Chd,Chandigarh',\n",
       "       'Panchkula,Chandigarh', 'South Chd,Chandigarh', 'Chandrapur',\n",
       "       'Changanassery', 'Chengannur', 'Poonamallee,Chennai',\n",
       "       'OMR Navalur,Chennai', 'Mylapore,Chennai', 'Guindy,Chennai',\n",
       "       'Annanagar,Chennai', 'Chrompet,Chennai', 'Urapakkam,Chennai',\n",
       "       'George Town,Chennai', 'KK Nagar,Chennai', 'OMR Perungudi,Chennai',\n",
       "       'Kilpauk,Chennai', 'Vadapalani,Chennai', 'Perambur,Chennai',\n",
       "       'Royapettah,Chennai', 'Tambaram,Chennai', 'Padur,Chennai',\n",
       "       'Velachery,Chennai', 'Nungambakkam,Chennai', 'Avadi,Chennai',\n",
       "       'Porur,Chennai', 'Ramapuram,Chennai', 'Perumbakkam,Chennai',\n",
       "       'ECR-Kottivakkam,Chennai', 'Egmore,Chennai', 'Arumbakkam,Chennai',\n",
       "       'Madipakkam,Chennai', 'Ambattur,Chennai',\n",
       "       'Mahindra World City,Chennai', 'Alwarpet,Chennai',\n",
       "       'Mogappair,Chennai', 'Iyyapanthangal,Chennai',\n",
       "       'Medavakkam,Chennai', 'Villivakkam,Chennai', 'Karappakam,Chennai',\n",
       "       'Royapuram,Chennai', 'Adyar,Chennai', 'T Nagar,Chennai',\n",
       "       'Purasawalkam,Chennai', 'Cherthala', 'Chhapra', 'Chhatarpur',\n",
       "       'Chhindwara', 'Chidambaram', 'Chikhli', 'Chikkaballapur',\n",
       "       'Chikmagalur', 'Chiplun', 'Chitradurga', 'Chittoor', 'Chittorgarh',\n",
       "       'Chopda', 'Churu', 'Peelamedu,Coimbatore', 'Hopes,Coimbatore',\n",
       "       'Race Course,Coimbatore', 'Sai Baba Colony,Coimbatore',\n",
       "       'Gandhipuram,Coimbatore', 'Saravanampatti,Coimbatore',\n",
       "       'Ramanathapuram,Coimbatore', 'Coi_Ganapathy,Coimbatore',\n",
       "       'Cooch-behar', 'Cuddalore', 'Cuttack', 'Dahanu', 'Dahod', 'Daman',\n",
       "       'Darbhanga', 'Darjeeling', 'Dausa', 'Davanagere',\n",
       "       'Chukkuwala,Dehradun', 'Hathibarkala,Dehradun',\n",
       "       'Race Course Dehradun,Dehradun', 'Jakhan,Dehradun', 'Dehri',\n",
       "       'GTB Nagar,Delhi', 'Jasola,Delhi', 'Greater Noida,Delhi',\n",
       "       'Mayur Vihar,Delhi', 'BBK_MayurVihar,Delhi', 'Laxmi Nagar,Delhi',\n",
       "       'Punjabi Bagh,Delhi', 'Old Delhi,Delhi', 'Khan Market,Delhi',\n",
       "       'Greater Kailash 2,Delhi', 'Ashok Vihar,Delhi',\n",
       "       'Noida Expressway,Delhi', 'South Extension,Delhi',\n",
       "       'Greater Kailash New,Delhi', 'Vasant Kunj,Delhi',\n",
       "       'Uttam Nagar,Delhi', 'Dilshad Gardens,Delhi',\n",
       "       'Connaught Place,Delhi', 'South Campus,Delhi', 'Rohini,Delhi',\n",
       "       'BBK_Chattarpur,Delhi', 'Chattarpur,Delhi', 'Lajpat Nagar,Delhi',\n",
       "       'Kirti Nagar,Delhi', 'Indirapuram,Delhi', 'Dwarka,Delhi',\n",
       "       'Rajouri Garden,Delhi', 'NSP,Delhi', 'Malviya Nagar,Delhi',\n",
       "       'Sector 18,Delhi', 'Deoghar', 'Dewas', 'Dhanbad', 'Dhar',\n",
       "       'Dharamshala', 'Dharmapuri', 'Dharwad', 'Dhoraji', 'Dhule',\n",
       "       'Dibrugarh', 'Dimapur', 'Dindigul', 'Diu', 'Doddaballapura',\n",
       "       'Duliajan', 'Dumka', 'Durgapur', 'Eluru', 'Erode', 'Etawah',\n",
       "       'Faizabad', 'Faridabad', 'Faridkot', 'Farrukhabad', 'Fatehabad',\n",
       "       'Fatehgarh-sahib', 'Fatehpur', 'Fazilka', 'Firozabad', 'Firozpur',\n",
       "       'Gadag-betigeri', 'Gadwal', 'Gandhidham', 'Gangapur-city',\n",
       "       'Gangtok', 'Gauriganj', 'Gaya', 'Giridih', 'Godhra', 'Gokak',\n",
       "       'Golaghat', 'Gonda', 'Gondal', 'Gondia', 'Gopalganj', 'Gorakhpur',\n",
       "       'Gudivada', 'Guna', 'Guntakal', 'Guntur', 'Gurdaspur',\n",
       "       'Greenfields_FBD,Gurgaon', 'Sector-14,Gurgaon',\n",
       "       'Sector 15_FBD,Gurgaon', 'New DLF Phase 4,Gurgaon',\n",
       "       'NIT_FBD,Gurgaon', 'New Sohna Road,Gurgaon',\n",
       "       'Old Gurgaon (Zone 6),Gurgaon', 'sohna road,Gurgaon',\n",
       "       'New Cyber City,Gurgaon', 'Paltan Bazaar,Guwahati',\n",
       "       'Ganeshguri,Guwahati', 'Gwalior', 'Habra', 'Haldia', 'Haldwani',\n",
       "       'Halol', 'Hampi', 'Hansi', 'Hanumangarh', 'Hapur', 'Hardoi',\n",
       "       'Haridwar', 'Hassan', 'Himmatnagar', 'Hindaun', 'Hinganghat',\n",
       "       'Hisar', 'Hoshangabad', 'Hoshiarpur', 'Hospet', 'Hubli',\n",
       "       'Kompally,Hyderabad', 'Himayath Nagar,Hyderabad',\n",
       "       'Jubilee Hills,Hyderabad', 'Kachiguda,Hyderabad',\n",
       "       'Begumpet,Hyderabad', 'Kothapet & Dilsukhnagar,Hyderabad',\n",
       "       'Lingampally & Nalagandla,Hyderabad', 'Balanagar & Idpl,Hyderabad',\n",
       "       'Kondapur,Hyderabad', 'Ameerpet,Hyderabad',\n",
       "       'Abids & Koti,Hyderabad', 'Banjara Hills,Hyderabad',\n",
       "       'Gachibowli,Hyderabad', 'Suncity & Bandlaguda,Hyderabad',\n",
       "       'Vanasthalipuram,Hyderabad', 'Nampally,Hyderabad',\n",
       "       'Miyapur,Hyderabad', 'Manikonda,Hyderabad', 'Madhapur,Hyderabad',\n",
       "       'Mehdipatnam,Hyderabad', 'Kharkhana & Trimulgherry,Hyderabad',\n",
       "       'West Marredpally,Hyderabad',\n",
       "       'Tarnaka, Nacharam & Malkajigiri,Hyderabad',\n",
       "       'Santoshnagar & Saidabad,Hyderabad', 'Alwal,Hyderabad',\n",
       "       'Padmarao Nagar,Hyderabad', 'Kukatpally,Hyderabad',\n",
       "       'Nizampet & Pragathi Nagar,Hyderabad', 'Tolichowki,Hyderabad',\n",
       "       'Nanakramguda,Hyderabad', 'Attapur,Hyderabad', 'Ichalkaranji',\n",
       "       'Imphal', 'Sarafa,Indore', 'Vijay Nagar,Indore',\n",
       "       'South Tukoganj,Indore', 'Bhawar Kuan,Indore',\n",
       "       'Old Palasia,Indore', 'New Palasia,Indore', 'Irinjalakuda',\n",
       "       'Itanagar', 'Itarsi', 'Jabalpur', 'Jagdalpur', 'Jagraon',\n",
       "       'Jagtial', 'Jahanabad', 'Manasarovar,Jaipur', 'Jalaun', 'Jalgaon',\n",
       "       'Jalpaiguri', 'Jammu', 'Jamnagar', 'Jamshedpur', 'Jaunpur',\n",
       "       'Jhalawar', 'Jhansi', 'Jhargram', 'Jhunjhunu', 'Jind', 'Jodhpur',\n",
       "       'Jorhat', 'Junagadh', 'Kadapa', 'Kadayanallur', 'Kadiri',\n",
       "       'Kaithal', 'Kakinada', 'Kalaburagi', 'Kalady', 'Kamareddy',\n",
       "       'Kanchrapara', 'Kannauj', 'Kannur', 'Kanpur', 'Kanyakumari',\n",
       "       'Kapurthala', 'Karad', 'Karaikkudi', 'Karimnagar', 'Karnal',\n",
       "       'Karunagappaly', 'Karur', 'Karwar', 'Kasaragod', 'Kashipur',\n",
       "       'Katihar', 'Katni', 'Kavali', 'Kayamkulam', 'Kendujhar',\n",
       "       'Khamgaon', 'Khammam', 'Khandwa', 'Khanna', 'Kharagpur',\n",
       "       'Kishanganj', 'Kishangarh', 'Vyttila,Kochi', 'Kalamassery,Kochi',\n",
       "       'Aluva,Kochi', 'Panampilly Nagar,Kochi', 'Lulu Mall,Kochi',\n",
       "       'Fort Kochi,Kochi', 'Thrippunithura,Kochi', 'Kodaikanal', 'Kohima',\n",
       "       'Kolar', 'Kolhapur', 'Howrah,Kolkata', 'South Kolkata,Kolkata',\n",
       "       'Rajarhat,Kolkata', 'Burrabazar,Kolkata', 'North Dumdum,Kolkata',\n",
       "       'Chinar Park,Kolkata', 'Kestopur,Kolkata', 'Kidderpore,Kolkata',\n",
       "       'Salt Lake,Kolkata', 'Ruby Area,Kolkata', 'Santoshpur,Kolkata',\n",
       "       'Bally,Kolkata', 'Central Kolkata,Kolkata', 'Garia,Kolkata',\n",
       "       'Tangra,Kolkata', 'Esplanade,Kolkata', 'Kankurgachi,Kolkata',\n",
       "       'Naktala,Kolkata', 'Behala,Kolkata', 'Alipore,Kolkata',\n",
       "       'Lake Town,Kolkata', 'Dumdum,Kolkata', 'Jadavpur,Kolkata',\n",
       "       'Thakurpukur,Kolkata', 'Hatibagan,Kolkata', 'Kollam', 'Kopargaon',\n",
       "       'Koppal', 'Korba', 'Kota', 'Kotdwar', 'Kothagudem',\n",
       "       'Kothamanagalam', 'Kottakkal', 'Kottarakkara', 'Kottayam',\n",
       "       'Kovilpatti', 'Kozhikode', 'Krishnagiri', 'Krishnanagar',\n",
       "       'Kumarakom', 'Kumbakonam', 'Kumta', 'Kundapura', 'Kunnamkullam',\n",
       "       'Kurnool', 'Kurukshetra', 'Lakhimpur', 'Lalitpur', 'Latur',\n",
       "       'Lonavala', 'Lonavla', 'Gomti Nagar,Lucknow', 'Hazratganj,Lucknow',\n",
       "       'Bbd,Lucknow', 'Ashiyana,Lucknow', 'Aminabad,Lucknow',\n",
       "       'Aliganj,Lucknow', 'Alambagh,Lucknow', 'Indira Nagar,Lucknow',\n",
       "       'Civil Lines,Ludhiana', 'BRS Nagar,Ludhiana',\n",
       "       'Model Town,Ludhiana', 'Dugri,Ludhiana', 'Machilipatnam',\n",
       "       'Madanapalle', 'Madhubani', 'Madikeri', 'Madurai', 'Mahbubnagar',\n",
       "       'Malappuram', 'Malda', 'Malegaon', 'Malout', 'Manali',\n",
       "       'Mancherial', 'Mandi-dabwali', 'Mandi-gobindgarh', 'Mandsaur',\n",
       "       'Mandya', 'Mangaluru', 'Manipal', 'Manjeri', 'Mansa', 'Markapur',\n",
       "       'Mathura', 'Maunath-bhanjan', 'Mayiladuthurai', 'Medinipur',\n",
       "       'Meerut', 'Mehsana', 'Miryalaguda', 'Mirzapur', 'Modinagar',\n",
       "       'Moga', 'Moodbidri', 'Moradabad', 'Morbi', 'Morena', 'Motihari',\n",
       "       'Mount-abu', 'Mughalsarai', 'Muktsar', 'Virar,Mumbai',\n",
       "       'Powai,Mumbai', 'Kamothe,Mumbai', 'Mulund,Mumbai',\n",
       "       'Mahalaxmi Malabar Hill,Mumbai', 'Vashi,Mumbai',\n",
       "       'Bandra West,Mumbai', 'Scruz Bandra East,Mumbai',\n",
       "       'Fort Colaba,Mumbai', 'Bhayandar,Mumbai', 'Mahim Dadar,Mumbai',\n",
       "       'Starbucks_BKC,Mumbai', 'Vasai,Mumbai', 'Matunga Wadala,Mumbai',\n",
       "       'Airoli,Mumbai', 'Munger', 'Murshidabad', 'Mussoorie',\n",
       "       'Muvattupuzha', 'Muzaffarnagar', 'Muzaffarpur',\n",
       "       'Mysore North,Mysore', 'Mysore South,Mysore', 'Nabadwip', 'Nadiad',\n",
       "       'Nagaon', 'Nagapattinam', 'Nagda', 'Nagercoil',\n",
       "       'Dharampeth,Nagpur', 'Nandanvan,Nagpur', 'Sitabuldi,Nagpur',\n",
       "       'Gandhibagh,Nagpur', 'Bajaj Nagar,Nagpur', 'Manish Nagar,Nagpur',\n",
       "       'Sadar,Nagpur', 'Wardha Road,Nagpur', 'Naharlagun', 'Nainital',\n",
       "       'Nalgonda', 'Namakkal', 'Nanded', 'Nandurbar', 'Nandyal', 'Nangal',\n",
       "       'Naraingarh', 'Narasaraopet', 'Narnaul', 'Narsinghpur', 'Navsari',\n",
       "       'Neemuch', 'Nellore', 'Neyveli', 'Nipani', 'Nirmal', 'Nizamabad',\n",
       "       'Raj Nagar,Noida', 'Noida-1', 'North-goa', 'Ongole', 'Ooty',\n",
       "       'Orai', 'Osmanabad', 'Pala', 'Palakkad', 'Palampur', 'Palani',\n",
       "       'Palanpur', 'Pali', 'Panipat', 'Parbhani', 'Pathankot', 'Patiala',\n",
       "       'Patna', 'Perinthalmanna', 'Phagwara', 'Pilibhit', 'Pondicherry',\n",
       "       'Porbandar', 'Proddatur', 'Pudukkottai', 'Wanowrie,Pune',\n",
       "       'Koregaon Park,Pune', 'Hadapsar,Pune', 'Warje,Pune',\n",
       "       'Pimple Saudagar,Pune', 'Kothrud,Pune', 'Vishrantwadi,Pune',\n",
       "       'Sangvi,Pune', 'Bibwewadi,Pune', 'Wakad,Pune', 'Kondhwa,Pune',\n",
       "       'Swargate,Pune', 'Nigdi,Pune', 'Bavdhan,Pune', 'Bhosari,Pune',\n",
       "       'Sinhgad Road,Pune', 'Wagholi,Pune', 'Narhe,Pune',\n",
       "       'Hinjewadi,Pune', 'Bopodi,Pune', 'PCMC,Pune', 'Dhankawadi,Pune',\n",
       "       'Viman Nagar,Pune', 'Aundh,Pune', 'Kalyani Nagar,Pune',\n",
       "       'Kharadi,Pune', 'Shivaji Nagar,Pune', 'Hinjewadi Phase-3,Pune',\n",
       "       'Baner,Pune', 'Magarpatta,Pune', 'Puri', 'Purnea', 'Purulia',\n",
       "       'Pusad', 'Puttur', 'Rae-bareli', 'Raghunathpur', 'Raichur',\n",
       "       'Raiganj', 'Raigarh', 'Raipur', 'Rajahmundry', 'Rajapalayam',\n",
       "       'Rajkot', 'Rajnandgaon', 'Rajsamand', 'Ramagundam', 'Ramanagara',\n",
       "       'Ramanathapuram', 'Rampur', 'Ranaghat-wb', 'Ranchi', 'Rangpo',\n",
       "       'Ranibennur', 'Raniganj', 'Ratlam', 'Ratnagiri', 'Rayachoty',\n",
       "       'Rewa', 'Rewari', 'Rishikesh', 'Rohtak', 'Roorkee', 'Ropar',\n",
       "       'Rourkela', 'Rudrapur', 'Sagar', 'Saharanpur', 'Saharsa', 'Salem',\n",
       "       'Samastipur', 'Sambalpur', 'Sangamner', 'Sangli', 'Sangrur',\n",
       "       'Sasaram', 'Satara', 'Satna', 'Sawai-madhopur', 'Sehore',\n",
       "       'Shahjahanpur', 'Shikohabad', 'Shillong', 'Shimla', 'Shivamogga',\n",
       "       'Shivpuri', 'Shrirampur', 'Siddipet', 'Sikar', 'Silchar',\n",
       "       'Siliguri', 'Silvassa', 'Sindhanur', 'Singrauli', 'Sirsa', 'Sirsi',\n",
       "       'Sitapur', 'Sivakasi', 'Sivasagar', 'Siwan', 'Solan', 'Solapur',\n",
       "       'Sonipat', 'South-goa', 'Sri-ganganagar', 'Srikakulam',\n",
       "       'Srivilliputhur', 'Sultanpur', 'Athwa,Surat', 'Adajan,Surat',\n",
       "       'Piplod,Surat', 'Suratgarh', 'Surendranagar-dudhrej', 'Suryapet',\n",
       "       'Tadepalligudem', 'Tadpatri', 'Tanuku', 'Tarn-taran-sahib',\n",
       "       'Tenkasi', 'Tezpur', 'Thalassery', 'Thanjavur', 'Theni',\n",
       "       'Thiruvalla', 'Thiruvallur', 'Thiruvananthapuram', 'Thiruvarur',\n",
       "       'Thodupuzha', 'Thoothukudi', 'Thrissur', 'Tinsukia', 'Tiptur',\n",
       "       'Tirunelveli', 'Tirupati', 'Tirupur', 'Tiruvannamalai', 'Tohana',\n",
       "       'Trichy', 'Tumakuru', 'Tuni', 'Udaipur', 'Udgir', 'Ujjain',\n",
       "       'Uluberia', 'Uran-islampur', 'Akota,Vadodara', 'Alkapuri,Vadodara',\n",
       "       'Vadiwadi,Vadodara', 'Valsad', 'Vapi', 'Varanasi', 'Varkala',\n",
       "       'Vellore', 'Veraval', 'Vidisha',\n",
       "       'Benz Circle and Auto Nagar,Vijayawada', 'Governorpet,Vijayawada',\n",
       "       'Virudhunagar', 'Visnagar', 'N A D,Vizag', 'Gajuwaka,Vizag',\n",
       "       'Jagadamba Junction,Vizag', 'MVP Colony,Vizag',\n",
       "       'Dwarka Nagar,Vizag', 'Vizianagaram', 'Vyara', 'Waidhan',\n",
       "       'Warangal', 'Wardha', 'Washim', 'Yamuna-nagar', 'Yavatmal'],\n",
       "      dtype=object)"
      ]
     },
     "execution_count": 20,
     "metadata": {},
     "output_type": "execute_result"
    }
   ],
   "source": [
    "df['city'].unique()"
   ]
  },
  {
   "cell_type": "code",
   "execution_count": 21,
   "id": "881cf6da",
   "metadata": {},
   "outputs": [],
   "source": [
    "# Keep only the part after the last comma\n",
    "df['city'] = df['city'].apply(lambda x: x.split(',')[-1].strip() if isinstance(x, str) else x)\n"
   ]
  },
  {
   "cell_type": "code",
   "execution_count": 22,
   "id": "709b9432",
   "metadata": {},
   "outputs": [],
   "source": [
    "# Clean city column: extract city name and standardize\n",
    "df['city'] = df['city'].apply(lambda x: x.split(',')[-1].strip().lower() if isinstance(x, str) else x)\n"
   ]
  },
  {
   "cell_type": "code",
   "execution_count": 23,
   "id": "6e5bcc3b",
   "metadata": {},
   "outputs": [
    {
     "data": {
      "text/plain": [
       "array(['abohar', 'adilabad', 'adityapur', 'adoni', 'agartala', 'agra',\n",
       "       'ahmedabad', 'ahmednagar', 'aizawl', 'ajmer', 'akola', 'alappuzha',\n",
       "       'aligarh', 'alipurduar', 'allahabad', 'alwar', 'ambala',\n",
       "       'ambikapur', 'ambur', 'amravati', 'amreli', 'amritsar', 'anand',\n",
       "       'anantapur', 'ankleshwar', 'arakkonam', 'arambagh', 'arrah',\n",
       "       'aruppukottai', 'asansol', 'aurangabad', 'aurangabad_bihar',\n",
       "       'azamgarh', 'baddi', 'bagalkot', 'bagdogra', 'bahadurgarh',\n",
       "       'bahraich', 'balaghat', 'balangir', 'balasore', 'ballari',\n",
       "       'balrampur', 'balurghat', 'banda', 'bangalore', 'bantwal',\n",
       "       'bapatlachirala', 'baramati', 'baran', 'bardhaman', 'bardoli',\n",
       "       'bareilly', 'barmer', 'barnala', 'barshi', 'barwani', 'basirhat',\n",
       "       'basti', 'batala', 'bathinda', 'beawar', 'beed', 'begusarai',\n",
       "       'bela-pratapgarh', 'belgaum', 'berhampore', 'berhampur', 'bettiah',\n",
       "       'betul', 'bhadohi', 'bhadrachalam', 'bhagalpur', 'bhandara',\n",
       "       'bharabanki', 'bharatpur', 'bharuch', 'bhatkal', 'bhavnagar',\n",
       "       'bhawanipatna', 'bhilai', 'bhilwara', 'bhimavaram', 'bhind',\n",
       "       'bhiwadi', 'bhiwani', 'bhopal', 'bhubaneswar', 'bhuj', 'bhusawal',\n",
       "       'bidar', 'biharsharif', 'bijapur', 'bijnor', 'bikaner', 'bilaspur',\n",
       "       'bilimora', 'bodhan-rural', 'bodinayakanur', 'boisar', 'bokaro',\n",
       "       'bolpur', 'bongaigaon', 'bongaon', 'budaun', 'budhwal',\n",
       "       'bulandshahr', 'buldana', 'bundi', 'burhanpur', 'buxar',\n",
       "       'central-goa', 'chakdaha', 'chalakkudy', 'chalisgaon', 'chandausi',\n",
       "       'chandigarh', 'chandrapur', 'changanassery', 'chengannur',\n",
       "       'chennai', 'cherthala', 'chhapra', 'chhatarpur', 'chhindwara',\n",
       "       'chidambaram', 'chikhli', 'chikkaballapur', 'chikmagalur',\n",
       "       'chiplun', 'chitradurga', 'chittoor', 'chittorgarh', 'chopda',\n",
       "       'churu', 'coimbatore', 'cooch-behar', 'cuddalore', 'cuttack',\n",
       "       'dahanu', 'dahod', 'daman', 'darbhanga', 'darjeeling', 'dausa',\n",
       "       'davanagere', 'dehradun', 'dehri', 'delhi', 'deoghar', 'dewas',\n",
       "       'dhanbad', 'dhar', 'dharamshala', 'dharmapuri', 'dharwad',\n",
       "       'dhoraji', 'dhule', 'dibrugarh', 'dimapur', 'dindigul', 'diu',\n",
       "       'doddaballapura', 'duliajan', 'dumka', 'durgapur', 'eluru',\n",
       "       'erode', 'etawah', 'faizabad', 'faridabad', 'faridkot',\n",
       "       'farrukhabad', 'fatehabad', 'fatehgarh-sahib', 'fatehpur',\n",
       "       'fazilka', 'firozabad', 'firozpur', 'gadag-betigeri', 'gadwal',\n",
       "       'gandhidham', 'gangapur-city', 'gangtok', 'gauriganj', 'gaya',\n",
       "       'giridih', 'godhra', 'gokak', 'golaghat', 'gonda', 'gondal',\n",
       "       'gondia', 'gopalganj', 'gorakhpur', 'gudivada', 'guna', 'guntakal',\n",
       "       'guntur', 'gurdaspur', 'gurgaon', 'guwahati', 'gwalior', 'habra',\n",
       "       'haldia', 'haldwani', 'halol', 'hampi', 'hansi', 'hanumangarh',\n",
       "       'hapur', 'hardoi', 'haridwar', 'hassan', 'himmatnagar', 'hindaun',\n",
       "       'hinganghat', 'hisar', 'hoshangabad', 'hoshiarpur', 'hospet',\n",
       "       'hubli', 'hyderabad', 'ichalkaranji', 'imphal', 'indore',\n",
       "       'irinjalakuda', 'itanagar', 'itarsi', 'jabalpur', 'jagdalpur',\n",
       "       'jagraon', 'jagtial', 'jahanabad', 'jaipur', 'jalaun', 'jalgaon',\n",
       "       'jalpaiguri', 'jammu', 'jamnagar', 'jamshedpur', 'jaunpur',\n",
       "       'jhalawar', 'jhansi', 'jhargram', 'jhunjhunu', 'jind', 'jodhpur',\n",
       "       'jorhat', 'junagadh', 'kadapa', 'kadayanallur', 'kadiri',\n",
       "       'kaithal', 'kakinada', 'kalaburagi', 'kalady', 'kamareddy',\n",
       "       'kanchrapara', 'kannauj', 'kannur', 'kanpur', 'kanyakumari',\n",
       "       'kapurthala', 'karad', 'karaikkudi', 'karimnagar', 'karnal',\n",
       "       'karunagappaly', 'karur', 'karwar', 'kasaragod', 'kashipur',\n",
       "       'katihar', 'katni', 'kavali', 'kayamkulam', 'kendujhar',\n",
       "       'khamgaon', 'khammam', 'khandwa', 'khanna', 'kharagpur',\n",
       "       'kishanganj', 'kishangarh', 'kochi', 'kodaikanal', 'kohima',\n",
       "       'kolar', 'kolhapur', 'kolkata', 'kollam', 'kopargaon', 'koppal',\n",
       "       'korba', 'kota', 'kotdwar', 'kothagudem', 'kothamanagalam',\n",
       "       'kottakkal', 'kottarakkara', 'kottayam', 'kovilpatti', 'kozhikode',\n",
       "       'krishnagiri', 'krishnanagar', 'kumarakom', 'kumbakonam', 'kumta',\n",
       "       'kundapura', 'kunnamkullam', 'kurnool', 'kurukshetra', 'lakhimpur',\n",
       "       'lalitpur', 'latur', 'lonavala', 'lonavla', 'lucknow', 'ludhiana',\n",
       "       'machilipatnam', 'madanapalle', 'madhubani', 'madikeri', 'madurai',\n",
       "       'mahbubnagar', 'malappuram', 'malda', 'malegaon', 'malout',\n",
       "       'manali', 'mancherial', 'mandi-dabwali', 'mandi-gobindgarh',\n",
       "       'mandsaur', 'mandya', 'mangaluru', 'manipal', 'manjeri', 'mansa',\n",
       "       'markapur', 'mathura', 'maunath-bhanjan', 'mayiladuthurai',\n",
       "       'medinipur', 'meerut', 'mehsana', 'miryalaguda', 'mirzapur',\n",
       "       'modinagar', 'moga', 'moodbidri', 'moradabad', 'morbi', 'morena',\n",
       "       'motihari', 'mount-abu', 'mughalsarai', 'muktsar', 'mumbai',\n",
       "       'munger', 'murshidabad', 'mussoorie', 'muvattupuzha',\n",
       "       'muzaffarnagar', 'muzaffarpur', 'mysore', 'nabadwip', 'nadiad',\n",
       "       'nagaon', 'nagapattinam', 'nagda', 'nagercoil', 'nagpur',\n",
       "       'naharlagun', 'nainital', 'nalgonda', 'namakkal', 'nanded',\n",
       "       'nandurbar', 'nandyal', 'nangal', 'naraingarh', 'narasaraopet',\n",
       "       'narnaul', 'narsinghpur', 'navsari', 'neemuch', 'nellore',\n",
       "       'neyveli', 'nipani', 'nirmal', 'nizamabad', 'noida', 'noida-1',\n",
       "       'north-goa', 'ongole', 'ooty', 'orai', 'osmanabad', 'pala',\n",
       "       'palakkad', 'palampur', 'palani', 'palanpur', 'pali', 'panipat',\n",
       "       'parbhani', 'pathankot', 'patiala', 'patna', 'perinthalmanna',\n",
       "       'phagwara', 'pilibhit', 'pondicherry', 'porbandar', 'proddatur',\n",
       "       'pudukkottai', 'pune', 'puri', 'purnea', 'purulia', 'pusad',\n",
       "       'puttur', 'rae-bareli', 'raghunathpur', 'raichur', 'raiganj',\n",
       "       'raigarh', 'raipur', 'rajahmundry', 'rajapalayam', 'rajkot',\n",
       "       'rajnandgaon', 'rajsamand', 'ramagundam', 'ramanagara',\n",
       "       'ramanathapuram', 'rampur', 'ranaghat-wb', 'ranchi', 'rangpo',\n",
       "       'ranibennur', 'raniganj', 'ratlam', 'ratnagiri', 'rayachoty',\n",
       "       'rewa', 'rewari', 'rishikesh', 'rohtak', 'roorkee', 'ropar',\n",
       "       'rourkela', 'rudrapur', 'sagar', 'saharanpur', 'saharsa', 'salem',\n",
       "       'samastipur', 'sambalpur', 'sangamner', 'sangli', 'sangrur',\n",
       "       'sasaram', 'satara', 'satna', 'sawai-madhopur', 'sehore',\n",
       "       'shahjahanpur', 'shikohabad', 'shillong', 'shimla', 'shivamogga',\n",
       "       'shivpuri', 'shrirampur', 'siddipet', 'sikar', 'silchar',\n",
       "       'siliguri', 'silvassa', 'sindhanur', 'singrauli', 'sirsa', 'sirsi',\n",
       "       'sitapur', 'sivakasi', 'sivasagar', 'siwan', 'solan', 'solapur',\n",
       "       'sonipat', 'south-goa', 'sri-ganganagar', 'srikakulam',\n",
       "       'srivilliputhur', 'sultanpur', 'surat', 'suratgarh',\n",
       "       'surendranagar-dudhrej', 'suryapet', 'tadepalligudem', 'tadpatri',\n",
       "       'tanuku', 'tarn-taran-sahib', 'tenkasi', 'tezpur', 'thalassery',\n",
       "       'thanjavur', 'theni', 'thiruvalla', 'thiruvallur',\n",
       "       'thiruvananthapuram', 'thiruvarur', 'thodupuzha', 'thoothukudi',\n",
       "       'thrissur', 'tinsukia', 'tiptur', 'tirunelveli', 'tirupati',\n",
       "       'tirupur', 'tiruvannamalai', 'tohana', 'trichy', 'tumakuru',\n",
       "       'tuni', 'udaipur', 'udgir', 'ujjain', 'uluberia', 'uran-islampur',\n",
       "       'vadodara', 'valsad', 'vapi', 'varanasi', 'varkala', 'vellore',\n",
       "       'veraval', 'vidisha', 'vijayawada', 'virudhunagar', 'visnagar',\n",
       "       'vizag', 'vizianagaram', 'vyara', 'waidhan', 'warangal', 'wardha',\n",
       "       'washim', 'yamuna-nagar', 'yavatmal'], dtype=object)"
      ]
     },
     "execution_count": 23,
     "metadata": {},
     "output_type": "execute_result"
    }
   ],
   "source": [
    "df['city'].unique()"
   ]
  },
  {
   "cell_type": "code",
   "execution_count": 25,
   "id": "dfd74f56",
   "metadata": {},
   "outputs": [
    {
     "data": {
      "text/plain": [
       "(148410, 11)"
      ]
     },
     "execution_count": 25,
     "metadata": {},
     "output_type": "execute_result"
    }
   ],
   "source": [
    "df.shape"
   ]
  },
  {
   "cell_type": "code",
   "execution_count": 26,
   "id": "0985a0f7",
   "metadata": {},
   "outputs": [
    {
     "data": {
      "text/plain": [
       "id                int64\n",
       "name             object\n",
       "city             object\n",
       "rating          float64\n",
       "rating_count    float64\n",
       "cost            float64\n",
       "cuisine          object\n",
       "lic_no           object\n",
       "link             object\n",
       "address          object\n",
       "menu             object\n",
       "dtype: object"
      ]
     },
     "execution_count": 26,
     "metadata": {},
     "output_type": "execute_result"
    }
   ],
   "source": [
    "df.dtypes"
   ]
  },
  {
   "cell_type": "code",
   "execution_count": 27,
   "id": "64ca6818",
   "metadata": {},
   "outputs": [
    {
     "data": {
      "text/plain": [
       "array([3.8945348, 4.4      , 3.8      , 3.7      , 3.6      , 4.       ,\n",
       "       4.2      , 4.7      , 4.1      , 3.5      , 3.1      , 3.4      ,\n",
       "       3.3      , 4.8      , 3.9      , 2.7      , 4.3      , 2.9      ,\n",
       "       4.5      , 2.5      , 3.2      , 2.4      , 4.6      , 3.       ,\n",
       "       2.8      , 2.3      , 5.       , 2.6      , 2.2      , 1.4      ,\n",
       "       1.9      , 4.9      , 2.1      , 1.3      , 2.       , 1.8      ,\n",
       "       1.6      , 1.1      , 1.5      , 1.       , 1.2      , 1.7      ])"
      ]
     },
     "execution_count": 27,
     "metadata": {},
     "output_type": "execute_result"
    }
   ],
   "source": [
    "df['rating'].unique()"
   ]
  },
  {
   "cell_type": "code",
   "execution_count": 28,
   "id": "6d424065",
   "metadata": {},
   "outputs": [
    {
     "data": {
      "text/plain": [
       "id                 0\n",
       "name               0\n",
       "city               0\n",
       "rating             0\n",
       "rating_count    2852\n",
       "cost               0\n",
       "cuisine            0\n",
       "lic_no             0\n",
       "link               0\n",
       "address            0\n",
       "menu               0\n",
       "dtype: int64"
      ]
     },
     "execution_count": 28,
     "metadata": {},
     "output_type": "execute_result"
    }
   ],
   "source": [
    "df.isnull().sum()"
   ]
  },
  {
   "cell_type": "code",
   "execution_count": 29,
   "id": "a52dd199",
   "metadata": {},
   "outputs": [
    {
     "data": {
      "text/plain": [
       "array([  0.,  50., 100.,  20., 500.,  nan])"
      ]
     },
     "execution_count": 29,
     "metadata": {},
     "output_type": "execute_result"
    }
   ],
   "source": [
    "df['rating_count'].unique()"
   ]
  },
  {
   "cell_type": "code",
   "execution_count": 30,
   "id": "dd3c71ce",
   "metadata": {},
   "outputs": [],
   "source": [
    "df['rating_count'] = df['rating_count'].fillna(0)\n"
   ]
  },
  {
   "cell_type": "code",
   "execution_count": 32,
   "id": "c83daa98",
   "metadata": {},
   "outputs": [
    {
     "data": {
      "text/plain": [
       "id              0\n",
       "name            0\n",
       "city            0\n",
       "rating          0\n",
       "rating_count    0\n",
       "cost            0\n",
       "cuisine         0\n",
       "lic_no          0\n",
       "link            0\n",
       "address         0\n",
       "menu            0\n",
       "dtype: int64"
      ]
     },
     "execution_count": 32,
     "metadata": {},
     "output_type": "execute_result"
    }
   ],
   "source": [
    "df.isnull().sum()"
   ]
  },
  {
   "cell_type": "code",
   "execution_count": 35,
   "id": "6ba18b2e",
   "metadata": {},
   "outputs": [
    {
     "data": {
      "text/plain": [
       "id                int64\n",
       "name             object\n",
       "city             object\n",
       "rating          float64\n",
       "rating_count    float64\n",
       "cost            float64\n",
       "cuisine          object\n",
       "lic_no           object\n",
       "link             object\n",
       "address          object\n",
       "menu             object\n",
       "dtype: object"
      ]
     },
     "execution_count": 35,
     "metadata": {},
     "output_type": "execute_result"
    }
   ],
   "source": [
    "df.dtypes\n"
   ]
  },
  {
   "cell_type": "code",
   "execution_count": 36,
   "id": "94af5326",
   "metadata": {},
   "outputs": [
    {
     "name": "stdout",
     "output_type": "stream",
     "text": [
      "1.0 5.0\n",
      "1.0 300350.0\n",
      "0.0 500.0\n"
     ]
    }
   ],
   "source": [
    "print(df['rating'].min(), df['rating'].max())\n",
    "print(df['cost'].min(), df['cost'].max())\n",
    "print(df['rating_count'].min(), df['rating_count'].max())\n"
   ]
  },
  {
   "cell_type": "code",
   "execution_count": 37,
   "id": "74d21a36",
   "metadata": {},
   "outputs": [
    {
     "data": {
      "text/plain": [
       "0"
      ]
     },
     "execution_count": 37,
     "metadata": {},
     "output_type": "execute_result"
    }
   ],
   "source": [
    "df.duplicated().sum()\n"
   ]
  },
  {
   "cell_type": "code",
   "execution_count": 38,
   "id": "fcb42db0",
   "metadata": {},
   "outputs": [
    {
     "data": {
      "text/plain": [
       "id              0\n",
       "name            0\n",
       "city            0\n",
       "rating          0\n",
       "rating_count    0\n",
       "cost            0\n",
       "cuisine         0\n",
       "lic_no          0\n",
       "link            0\n",
       "address         0\n",
       "menu            0\n",
       "dtype: int64"
      ]
     },
     "execution_count": 38,
     "metadata": {},
     "output_type": "execute_result"
    }
   ],
   "source": [
    "df.isnull().sum()"
   ]
  },
  {
   "cell_type": "code",
   "execution_count": 40,
   "id": "f6c01dcd",
   "metadata": {},
   "outputs": [],
   "source": [
    "df = df[df['rating_count'] > 0]"
   ]
  },
  {
   "cell_type": "code",
   "execution_count": 42,
   "id": "fd0ca1bb",
   "metadata": {},
   "outputs": [
    {
     "name": "stdout",
     "output_type": "stream",
     "text": [
      " Data cleaning completed and saved as 'swiggy_cleaned.csv'!\n"
     ]
    }
   ],
   "source": [
    "df.to_csv(r'L:\\Guvi\\Project 4\\cleaned_data.csv', index=False)\n",
    "\n",
    "print(\" Data cleaning completed and saved as 'swiggy_cleaned.csv'!\")"
   ]
  },
  {
   "cell_type": "code",
   "execution_count": 41,
   "id": "c176fd8b",
   "metadata": {},
   "outputs": [
    {
     "data": {
      "text/html": [
       "<div>\n",
       "<style scoped>\n",
       "    .dataframe tbody tr th:only-of-type {\n",
       "        vertical-align: middle;\n",
       "    }\n",
       "\n",
       "    .dataframe tbody tr th {\n",
       "        vertical-align: top;\n",
       "    }\n",
       "\n",
       "    .dataframe thead th {\n",
       "        text-align: right;\n",
       "    }\n",
       "</style>\n",
       "<table border=\"1\" class=\"dataframe\">\n",
       "  <thead>\n",
       "    <tr style=\"text-align: right;\">\n",
       "      <th></th>\n",
       "      <th>id</th>\n",
       "      <th>name</th>\n",
       "      <th>city</th>\n",
       "      <th>rating</th>\n",
       "      <th>rating_count</th>\n",
       "      <th>cost</th>\n",
       "      <th>cuisine</th>\n",
       "      <th>lic_no</th>\n",
       "      <th>link</th>\n",
       "      <th>address</th>\n",
       "      <th>menu</th>\n",
       "    </tr>\n",
       "  </thead>\n",
       "  <tbody>\n",
       "    <tr>\n",
       "      <th>1</th>\n",
       "      <td>531342</td>\n",
       "      <td>Janta Sweet House</td>\n",
       "      <td>abohar</td>\n",
       "      <td>4.4</td>\n",
       "      <td>50.0</td>\n",
       "      <td>200.0</td>\n",
       "      <td>Sweets,Bakery</td>\n",
       "      <td>12117201000112</td>\n",
       "      <td>https://www.swiggy.com/restaurants/janta-sweet...</td>\n",
       "      <td>Janta Sweet House, Bazar No.9, Circullar Road,...</td>\n",
       "      <td>Menu/531342.json</td>\n",
       "    </tr>\n",
       "    <tr>\n",
       "      <th>2</th>\n",
       "      <td>158203</td>\n",
       "      <td>theka coffee desi</td>\n",
       "      <td>abohar</td>\n",
       "      <td>3.8</td>\n",
       "      <td>100.0</td>\n",
       "      <td>100.0</td>\n",
       "      <td>Beverages</td>\n",
       "      <td>22121652000190</td>\n",
       "      <td>https://www.swiggy.com/restaurants/theka-coffe...</td>\n",
       "      <td>theka coffee desi, sahtiya sadan road city</td>\n",
       "      <td>Menu/158203.json</td>\n",
       "    </tr>\n",
       "    <tr>\n",
       "      <th>3</th>\n",
       "      <td>187912</td>\n",
       "      <td>Singh Hut</td>\n",
       "      <td>abohar</td>\n",
       "      <td>3.7</td>\n",
       "      <td>20.0</td>\n",
       "      <td>250.0</td>\n",
       "      <td>Fast Food,Indian</td>\n",
       "      <td>22119652000167</td>\n",
       "      <td>https://www.swiggy.com/restaurants/singh-hut-n...</td>\n",
       "      <td>Singh Hut, CIRCULAR ROAD NEAR NEHRU PARK ABOHAR</td>\n",
       "      <td>Menu/187912.json</td>\n",
       "    </tr>\n",
       "    <tr>\n",
       "      <th>5</th>\n",
       "      <td>158204</td>\n",
       "      <td>Sam Uncle</td>\n",
       "      <td>abohar</td>\n",
       "      <td>3.6</td>\n",
       "      <td>20.0</td>\n",
       "      <td>200.0</td>\n",
       "      <td>Continental</td>\n",
       "      <td>22119652000052</td>\n",
       "      <td>https://www.swiggy.com/restaurants/sam-uncle-c...</td>\n",
       "      <td>Sam Uncle, hanumangarh road near raja bajaj sh...</td>\n",
       "      <td>Menu/158204.json</td>\n",
       "    </tr>\n",
       "    <tr>\n",
       "      <th>6</th>\n",
       "      <td>156588</td>\n",
       "      <td>shere punjab veg</td>\n",
       "      <td>abohar</td>\n",
       "      <td>4.0</td>\n",
       "      <td>100.0</td>\n",
       "      <td>150.0</td>\n",
       "      <td>North Indian</td>\n",
       "      <td>22120652000021</td>\n",
       "      <td>https://www.swiggy.com/restaurants/shere-punja...</td>\n",
       "      <td>shere punjab veg, major surinder chowk near ve...</td>\n",
       "      <td>Menu/156588.json</td>\n",
       "    </tr>\n",
       "  </tbody>\n",
       "</table>\n",
       "</div>"
      ],
      "text/plain": [
       "       id               name    city  rating  rating_count   cost  \\\n",
       "1  531342  Janta Sweet House  abohar     4.4          50.0  200.0   \n",
       "2  158203  theka coffee desi  abohar     3.8         100.0  100.0   \n",
       "3  187912          Singh Hut  abohar     3.7          20.0  250.0   \n",
       "5  158204          Sam Uncle  abohar     3.6          20.0  200.0   \n",
       "6  156588   shere punjab veg  abohar     4.0         100.0  150.0   \n",
       "\n",
       "            cuisine          lic_no  \\\n",
       "1     Sweets,Bakery  12117201000112   \n",
       "2         Beverages  22121652000190   \n",
       "3  Fast Food,Indian  22119652000167   \n",
       "5       Continental  22119652000052   \n",
       "6      North Indian  22120652000021   \n",
       "\n",
       "                                                link  \\\n",
       "1  https://www.swiggy.com/restaurants/janta-sweet...   \n",
       "2  https://www.swiggy.com/restaurants/theka-coffe...   \n",
       "3  https://www.swiggy.com/restaurants/singh-hut-n...   \n",
       "5  https://www.swiggy.com/restaurants/sam-uncle-c...   \n",
       "6  https://www.swiggy.com/restaurants/shere-punja...   \n",
       "\n",
       "                                             address              menu  \n",
       "1  Janta Sweet House, Bazar No.9, Circullar Road,...  Menu/531342.json  \n",
       "2         theka coffee desi, sahtiya sadan road city  Menu/158203.json  \n",
       "3    Singh Hut, CIRCULAR ROAD NEAR NEHRU PARK ABOHAR  Menu/187912.json  \n",
       "5  Sam Uncle, hanumangarh road near raja bajaj sh...  Menu/158204.json  \n",
       "6  shere punjab veg, major surinder chowk near ve...  Menu/156588.json  "
      ]
     },
     "execution_count": 41,
     "metadata": {},
     "output_type": "execute_result"
    }
   ],
   "source": [
    "df.head()"
   ]
  },
  {
   "cell_type": "code",
   "execution_count": 45,
   "id": "ba03df92",
   "metadata": {},
   "outputs": [
    {
     "name": "stdout",
     "output_type": "stream",
     "text": [
      "Shape of cleaned_data: (58573, 11)\n",
      "Shape of encoded_data: (58573, 2172)\n",
      "Indices match? True\n"
     ]
    }
   ],
   "source": [
    "cleaned_data = pd.read_csv(r'L:\\Guvi\\Project 4\\cleaned_data.csv')\n",
    "encoded_data = pd.read_csv(r'L:\\Guvi\\Project 4\\encoded_data.csv')\n",
    "\n",
    "# Check the shapes\n",
    "print(\"Shape of cleaned_data:\", cleaned_data.shape)\n",
    "print(\"Shape of encoded_data:\", encoded_data.shape)\n",
    "\n",
    "# Check indices\n",
    "print(\"Indices match?\", all(cleaned_data.index == encoded_data.index))"
   ]
  },
  {
   "cell_type": "code",
   "execution_count": 46,
   "id": "78a581ca",
   "metadata": {},
   "outputs": [
    {
     "ename": "NameError",
     "evalue": "name 'cosine_similarity' is not defined",
     "output_type": "error",
     "traceback": [
      "\u001b[1;31m---------------------------------------------------------------------------\u001b[0m",
      "\u001b[1;31mNameError\u001b[0m                                 Traceback (most recent call last)",
      "Cell \u001b[1;32mIn[46], line 9\u001b[0m\n\u001b[0;32m      6\u001b[0m encoded_data \u001b[38;5;241m=\u001b[39m encoded_data\u001b[38;5;241m.\u001b[39mselect_dtypes(include\u001b[38;5;241m=\u001b[39m[\u001b[38;5;124m'\u001b[39m\u001b[38;5;124mnumber\u001b[39m\u001b[38;5;124m'\u001b[39m])\n\u001b[0;32m      8\u001b[0m \u001b[38;5;66;03m# Now continue normally\u001b[39;00m\n\u001b[1;32m----> 9\u001b[0m similarity_matrix \u001b[38;5;241m=\u001b[39m \u001b[43mcosine_similarity\u001b[49m(encoded_data)\n",
      "\u001b[1;31mNameError\u001b[0m: name 'cosine_similarity' is not defined"
     ]
    }
   ],
   "source": [
    "# Load data\n",
    "cleaned_data = pd.read_csv(r'L:\\Guvi\\Project 4\\cleaned_data.csv')\n",
    "encoded_data = pd.read_csv(r'L:\\Guvi\\Project 4\\encoded_data.csv')\n",
    "\n",
    "# ⚡ IMPORTANT: remove non-numeric columns if they exist\n",
    "encoded_data = encoded_data.select_dtypes(include=['number'])\n",
    "\n",
    "# Now continue normally\n",
    "similarity_matrix = cosine_similarity(encoded_data)\n"
   ]
  }
 ],
 "metadata": {
  "kernelspec": {
   "display_name": "Python 3",
   "language": "python",
   "name": "python3"
  },
  "language_info": {
   "codemirror_mode": {
    "name": "ipython",
    "version": 3
   },
   "file_extension": ".py",
   "mimetype": "text/x-python",
   "name": "python",
   "nbconvert_exporter": "python",
   "pygments_lexer": "ipython3",
   "version": "3.12.8"
  }
 },
 "nbformat": 4,
 "nbformat_minor": 5
}
